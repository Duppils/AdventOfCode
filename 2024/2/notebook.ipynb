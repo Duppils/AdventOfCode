{
 "cells": [
  {
   "cell_type": "code",
   "execution_count": 1,
   "metadata": {},
   "outputs": [
    {
     "name": "stdout",
     "output_type": "stream",
     "text": [
      "---------------------\n",
      "[7, 6, 4, 2, 1]\n",
      "True\n",
      "---------------------\n",
      "[1, 2, 7, 8, 9]\n",
      "False\n",
      "---------------------\n",
      "[9, 7, 6, 2, 1]\n",
      "False\n",
      "---------------------\n",
      "[1, 3, 2, 4, 5]\n",
      "True\n",
      "---------------------\n",
      "[8, 6, 4, 4, 1]\n",
      "True\n",
      "---------------------\n",
      "[1, 3, 6, 7, 9]\n",
      "True\n",
      "---------------------\n",
      "[1, 2, 3, 4, 1]\n",
      "True\n",
      "---------------------\n",
      "[9, 1, 2, 3, 4]\n",
      "True\n",
      "---------------------\n",
      "[2, 1, 3, 4, 5]\n",
      "True\n"
     ]
    },
    {
     "data": {
      "text/plain": [
       "7"
      ]
     },
     "execution_count": 1,
     "metadata": {},
     "output_type": "execute_result"
    }
   ],
   "source": [
    "# added edgecases for first and last element being removed and asc/desc swapping.\n",
    "reports = \"\"\"7 6 4 2 1\n",
    "1 2 7 8 9\n",
    "9 7 6 2 1\n",
    "1 3 2 4 5\n",
    "8 6 4 4 1\n",
    "1 3 6 7 9\n",
    "1 2 3 4 1\n",
    "9 1 2 3 4\n",
    "2 1 3 4 5\n",
    "\"\"\"\n",
    "reports = [list(map(int, report.split())) for report in reports.splitlines()]\n",
    "\n",
    "import report_checker\n",
    "n_safe = 0\n",
    "for report in reports:\n",
    "    print(\"---------------------\")\n",
    "    print(report)\n",
    "    is_safe = report_checker.safe2(report)\n",
    "    print(is_safe)\n",
    "    n_safe += int(is_safe)\n",
    "\n",
    "n_safe\n"
   ]
  },
  {
   "cell_type": "code",
   "execution_count": 2,
   "metadata": {},
   "outputs": [
    {
     "data": {
      "text/plain": [
       "621"
      ]
     },
     "execution_count": 2,
     "metadata": {},
     "output_type": "execute_result"
    }
   ],
   "source": [
    "import report_checker\n",
    "reports = report_checker.read_input(\"input.txt\")\n",
    "n_safe = 0\n",
    "for report in reports:\n",
    "    n_safe += int(report_checker.safe2(report))\n",
    "\n",
    "n_safe\n"
   ]
  },
  {
   "cell_type": "code",
   "execution_count": null,
   "metadata": {},
   "outputs": [],
   "source": []
  }
 ],
 "metadata": {
  "kernelspec": {
   "display_name": "dc",
   "language": "python",
   "name": "python3"
  },
  "language_info": {
   "codemirror_mode": {
    "name": "ipython",
    "version": 3
   },
   "file_extension": ".py",
   "mimetype": "text/x-python",
   "name": "python",
   "nbconvert_exporter": "python",
   "pygments_lexer": "ipython3",
   "version": "3.9.17"
  }
 },
 "nbformat": 4,
 "nbformat_minor": 2
}
