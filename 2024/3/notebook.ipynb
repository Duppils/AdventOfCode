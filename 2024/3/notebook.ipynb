{
 "cells": [
  {
   "cell_type": "markdown",
   "metadata": {},
   "source": [
    "# Part 1"
   ]
  },
  {
   "cell_type": "code",
   "execution_count": 1,
   "metadata": {},
   "outputs": [],
   "source": [
    "corrupt_memory = \"xmul(2,4)%&mul[3,7]!@^do_not_mul(5,5)+mul(32,64]then(mul(11,8)mul(8,5))\""
   ]
  },
  {
   "cell_type": "code",
   "execution_count": null,
   "metadata": {},
   "outputs": [],
   "source": [
    "import re\n",
    "# use https://regex101.com/ for experimenting with patterns\n",
    "mul_pattern = re.compile(r\"(mul\\(\\d{1,3},\\d{1,3}\\))\")"
   ]
  },
  {
   "cell_type": "code",
   "execution_count": 6,
   "metadata": {},
   "outputs": [
    {
     "data": {
      "text/plain": [
       "['mul(2,4)', 'mul(5,5)', 'mul(11,8)', 'mul(8,5)']"
      ]
     },
     "execution_count": 6,
     "metadata": {},
     "output_type": "execute_result"
    }
   ],
   "source": [
    "muls = re.findall(mul_pattern, corrupt_memory)\n",
    "muls"
   ]
  },
  {
   "cell_type": "code",
   "execution_count": 7,
   "metadata": {},
   "outputs": [],
   "source": [
    "import re\n",
    "digits_pattern = re.compile(r\"(\\d{1,3})\")"
   ]
  },
  {
   "cell_type": "code",
   "execution_count": 11,
   "metadata": {},
   "outputs": [
    {
     "data": {
      "text/plain": [
       "161"
      ]
     },
     "execution_count": 11,
     "metadata": {},
     "output_type": "execute_result"
    }
   ],
   "source": [
    "total = 0\n",
    "for mul in muls:\n",
    "    a,b = list(map(int, re.findall(digits_pattern, mul)))\n",
    "    total += a*b\n",
    "\n",
    "total"
   ]
  },
  {
   "cell_type": "markdown",
   "metadata": {},
   "source": [
    "# Part 1 answer"
   ]
  },
  {
   "cell_type": "code",
   "execution_count": 13,
   "metadata": {},
   "outputs": [
    {
     "data": {
      "text/plain": [
       "714"
      ]
     },
     "execution_count": 13,
     "metadata": {},
     "output_type": "execute_result"
    }
   ],
   "source": [
    "with open(\"secret_input.txt\", \"+r\") as input:\n",
    "    corrupt_memory = input.read()\n",
    "\n",
    "muls = re.findall(mul_pattern, corrupt_memory)\n",
    "len(muls)"
   ]
  },
  {
   "cell_type": "code",
   "execution_count": 14,
   "metadata": {},
   "outputs": [
    {
     "data": {
      "text/plain": [
       "161289189"
      ]
     },
     "execution_count": 14,
     "metadata": {},
     "output_type": "execute_result"
    }
   ],
   "source": [
    "total = 0\n",
    "for mul in muls:\n",
    "    a,b = list(map(int, re.findall(digits_pattern, mul)))\n",
    "    total += a*b\n",
    "\n",
    "total"
   ]
  },
  {
   "cell_type": "markdown",
   "metadata": {},
   "source": [
    "# Part 2"
   ]
  },
  {
   "cell_type": "code",
   "execution_count": 15,
   "metadata": {},
   "outputs": [],
   "source": [
    "import re\n",
    "op_pattern = re.compile(r\"(mul\\(\\d{1,3},\\d{1,3}\\))|(do\\(\\)|don't\\(\\))\")"
   ]
  },
  {
   "cell_type": "code",
   "execution_count": 16,
   "metadata": {},
   "outputs": [],
   "source": [
    "corrupt_memory = \"xmul(2,4)&mul[3,7]!^don't()_mul(5,5)+mul(32,64](mul(11,8)undo()?mul(8,5))\""
   ]
  },
  {
   "cell_type": "code",
   "execution_count": 18,
   "metadata": {},
   "outputs": [
    {
     "data": {
      "text/plain": [
       "[('mul(2,4)', ''),\n",
       " ('', \"don't()\"),\n",
       " ('mul(5,5)', ''),\n",
       " ('mul(11,8)', ''),\n",
       " ('', 'do()'),\n",
       " ('mul(8,5)', '')]"
      ]
     },
     "execution_count": 18,
     "metadata": {},
     "output_type": "execute_result"
    }
   ],
   "source": [
    "groups = re.findall(op_pattern, corrupt_memory)\n",
    "groups"
   ]
  },
  {
   "cell_type": "code",
   "execution_count": 19,
   "metadata": {},
   "outputs": [
    {
     "data": {
      "text/plain": [
       "['mul(2,4)', \"don't()\", 'mul(5,5)', 'mul(11,8)', 'do()', 'mul(8,5)']"
      ]
     },
     "execution_count": 19,
     "metadata": {},
     "output_type": "execute_result"
    }
   ],
   "source": [
    "operations = []\n",
    "for g1, g2 in groups:\n",
    "    if g1:\n",
    "        operations.append(g1)\n",
    "    if g2:\n",
    "        operations.append(g2)\n",
    "\n",
    "operations"
   ]
  },
  {
   "cell_type": "code",
   "execution_count": 23,
   "metadata": {},
   "outputs": [
    {
     "name": "stdout",
     "output_type": "stream",
     "text": [
      "2 4\n",
      "8 5\n"
     ]
    },
    {
     "data": {
      "text/plain": [
       "48"
      ]
     },
     "execution_count": 23,
     "metadata": {},
     "output_type": "execute_result"
    }
   ],
   "source": [
    "should_mul = True\n",
    "total = 0\n",
    "for op in operations:\n",
    "    if op == \"don't()\":\n",
    "        should_mul = False\n",
    "    elif op == \"do()\":\n",
    "        should_mul = True\n",
    "    elif should_mul:\n",
    "        a,b = list(map(int, re.findall(digits_pattern, op)))\n",
    "        print(a,b)\n",
    "        total += a*b\n",
    "\n",
    "total"
   ]
  },
  {
   "cell_type": "markdown",
   "metadata": {},
   "source": [
    "# Part 2 answer"
   ]
  },
  {
   "cell_type": "code",
   "execution_count": 24,
   "metadata": {},
   "outputs": [],
   "source": [
    "with open(\"secret_input.txt\", \"+r\") as input:\n",
    "    corrupt_memory = input.read()"
   ]
  },
  {
   "cell_type": "code",
   "execution_count": null,
   "metadata": {},
   "outputs": [
    {
     "data": {
      "text/plain": [
       "83595109"
      ]
     },
     "execution_count": 26,
     "metadata": {},
     "output_type": "execute_result"
    }
   ],
   "source": [
    "groups = re.findall(op_pattern, corrupt_memory)\n",
    "operations = []\n",
    "for g1, g2 in groups:\n",
    "    if g1:\n",
    "        operations.append(g1)\n",
    "    if g2:\n",
    "        operations.append(g2)\n",
    "\n",
    "should_mul = True\n",
    "total = 0\n",
    "for op in operations:\n",
    "    if op == \"don't()\":\n",
    "        should_mul = False\n",
    "    elif op == \"do()\":\n",
    "        should_mul = True\n",
    "    elif should_mul:\n",
    "        a,b = list(map(int, re.findall(digits_pattern, op)))\n",
    "        total += a*b\n",
    "\n",
    "total"
   ]
  },
  {
   "cell_type": "code",
   "execution_count": null,
   "metadata": {},
   "outputs": [],
   "source": []
  }
 ],
 "metadata": {
  "kernelspec": {
   "display_name": "dc",
   "language": "python",
   "name": "python3"
  },
  "language_info": {
   "codemirror_mode": {
    "name": "ipython",
    "version": 3
   },
   "file_extension": ".py",
   "mimetype": "text/x-python",
   "name": "python",
   "nbconvert_exporter": "python",
   "pygments_lexer": "ipython3",
   "version": "3.9.17"
  }
 },
 "nbformat": 4,
 "nbformat_minor": 2
}
